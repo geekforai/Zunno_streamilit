{
 "cells": [
  {
   "cell_type": "code",
   "execution_count": 52,
   "metadata": {},
   "outputs": [],
   "source": [
    "\n",
    "from PIL import Image\n"
   ]
  },
  {
   "cell_type": "code",
   "execution_count": 60,
   "metadata": {},
   "outputs": [],
   "source": [
    "import requests\n",
    "import json\n",
    "server_url='https://bf44-52-66-155-210.ngrok-free.app'\n",
    "def inpaint_image(image_path, bounding_boxes, output_path='inpainted_image.png'):\n",
    "    \"\"\"\n",
    "    Sends a request to the inpainting API endpoint and saves the inpainted image.\n",
    "\n",
    "    Parameters:\n",
    "    - image_path: str, path to the image file to be inpainted.\n",
    "    - bounding_boxes: list of tuples, each tuple containing (x1, y1, x2, y2) coordinates.\n",
    "    - output_path: str, path where the inpainted image will be saved (default is 'inpainted_image.png').\n",
    "\n",
    "    Returns:\n",
    "    - success: bool, True if the image was successfully inpainted and saved, False otherwise.\n",
    "    - error: str or None, error message if the request fails.\n",
    "    \"\"\"\n",
    "    url = server_url+'/inpaint'\n",
    "\n",
    "    try:\n",
    "        with open(image_path, 'rb') as image_file:\n",
    "            files = {\n",
    "                'image': image_file\n",
    "            }\n",
    "            data = {\n",
    "                'bboxes': json.dumps(bounding_boxes)  # Convert bounding boxes to a JSON string\n",
    "            }\n",
    "\n",
    "            response = requests.post(url, files=files, data=data)\n",
    "\n",
    "            if response.status_code == 200:\n",
    "                # Save the inpainted image to the specified output path\n",
    "                with open(output_path, 'wb') as out_file:\n",
    "                    out_file.write(response.content)\n",
    "                return True, None  # Indicate success and no error\n",
    "            else:\n",
    "                return False, response.json().get('error', 'Unknown error occurred.')\n",
    "    except Exception as e:\n",
    "        return False, str(e)"
   ]
  },
  {
   "cell_type": "code",
   "execution_count": 53,
   "metadata": {},
   "outputs": [],
   "source": [
    "def sam_method(image_path, text_input):\n",
    "    url = server_url+'/process_image'  # URL of the Flask endpoint\n",
    "    # Prepare the files and data\n",
    "    \n",
    "    files = {'image': open(image_path, 'rb')}  # Open the image file in binary mode\n",
    "    data = {'text_input': text_input}\n",
    "    # Send a POST request to the endpoint\n",
    "    response = requests.post(url, files=files, data=data)\n",
    "    # Check the response\n",
    "    response=response.json()\n",
    "    title_bbox = None\n",
    "    subtitle_bbox = None  # Placeholder for subtitle (not provided in the data)\n",
    "    product_bbox=None\n",
    "    for item in response['results']:\n",
    "        try:\n",
    "            label = item['result']['bboxes_labels'][0]\n",
    "            bbox = item['result']['bboxes'][0]\n",
    "\n",
    "            if label == text_input.split(',')[0]:\n",
    "                title_bbox = bbox\n",
    "            elif label == text_input.split(',')[1]:  # Assuming hashtags could serve as a subtitle\n",
    "                subtitle_bbox = bbox\n",
    "            elif label == text_input.split(',')[2]:  # Assuming hashtags could serve as a subtitle\n",
    "                product_bbox = bbox\n",
    "        except:\n",
    "            pass\n",
    "    return title_bbox,subtitle_bbox,product_bbox\n",
    "\n"
   ]
  },
  {
   "cell_type": "code",
   "execution_count": 124,
   "metadata": {},
   "outputs": [],
   "source": [
    "image_path='templates/instagram_pic (3).jpg'\n",
    "image=Image.open(image_path)"
   ]
  },
  {
   "cell_type": "code",
   "execution_count": 130,
   "metadata": {},
   "outputs": [],
   "source": [
    "query=\"title,hashtags,product\""
   ]
  },
  {
   "cell_type": "code",
   "execution_count": 131,
   "metadata": {},
   "outputs": [],
   "source": [
    "title_box,description_box,product_box=sam_method(image_path=image_path,text_input=query)"
   ]
  },
  {
   "cell_type": "code",
   "execution_count": 132,
   "metadata": {},
   "outputs": [
    {
     "data": {
      "text/plain": [
       "(True, None)"
      ]
     },
     "execution_count": 132,
     "metadata": {},
     "output_type": "execute_result"
    }
   ],
   "source": [
    "inpaint_image(image_path=image_path,bounding_boxes=[title_box,description_box])"
   ]
  }
 ],
 "metadata": {
  "kernelspec": {
   "display_name": "venv",
   "language": "python",
   "name": "python3"
  },
  "language_info": {
   "codemirror_mode": {
    "name": "ipython",
    "version": 3
   },
   "file_extension": ".py",
   "mimetype": "text/x-python",
   "name": "python",
   "nbconvert_exporter": "python",
   "pygments_lexer": "ipython3",
   "version": "3.12.7"
  }
 },
 "nbformat": 4,
 "nbformat_minor": 2
}
